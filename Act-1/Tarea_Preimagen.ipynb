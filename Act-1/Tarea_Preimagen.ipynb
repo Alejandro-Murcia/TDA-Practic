{
  "nbformat": 4,
  "nbformat_minor": 0,
  "metadata": {
    "colab": {
      "provenance": []
    },
    "kernelspec": {
      "name": "python3",
      "display_name": "Python 3"
    },
    "language_info": {
      "name": "python"
    }
  },
  "cells": [
    {
      "cell_type": "markdown",
      "source": [
        "# AC1: Funciones Continuas\n"
      ],
      "metadata": {
        "id": "FvycR5mTcNsZ"
      }
    },
    {
      "cell_type": "markdown",
      "source": [
        "## Pregunta 1"
      ],
      "metadata": {
        "id": "c-P27FSrcBhI"
      }
    },
    {
      "cell_type": "code",
      "execution_count": null,
      "metadata": {
        "id": "DdEDYv9UZpLa"
      },
      "outputs": [],
      "source": [
        "import pandas as pd\n",
        "import numpy as np"
      ]
    },
    {
      "cell_type": "code",
      "source": [
        "def inverse_image(f, E, D):\n",
        "    \"\"\"\n",
        "    Calcula el conjunto preimagen de E bajo la función f definida en el dominio D.\n",
        "    \"\"\"\n",
        "    return {x for x in D if f(x) in E}"
      ],
      "metadata": {
        "id": "K_XPzE_ibGj4"
      },
      "execution_count": null,
      "outputs": []
    },
    {
      "cell_type": "code",
      "source": [
        "D = {-4, -3, -2, -1, 0, 1, 2, 3, 4}\n",
        "E = {0, 1, 4, 9, 16}\n",
        "\n",
        "def f(x):\n",
        "    return x**2\n",
        "\n",
        "print(inverse_image(f, E, D))"
      ],
      "metadata": {
        "colab": {
          "base_uri": "https://localhost:8080/"
        },
        "id": "4cTS1RPUbSrK",
        "outputId": "a7c33edc-cf58-4958-a211-bebe3ec1f6fe"
      },
      "execution_count": null,
      "outputs": [
        {
          "output_type": "stream",
          "name": "stdout",
          "text": [
            "{0, 1, 2, 3, 4, -2, -4, -3, -1}\n"
          ]
        }
      ]
    },
    {
      "cell_type": "markdown",
      "source": [
        "## Pregunta 2"
      ],
      "metadata": {
        "id": "iU19QYX3ceBa"
      }
    },
    {
      "cell_type": "code",
      "source": [
        "def es_continuo(f, TD, TI):\n",
        "    \"\"\"\n",
        "    Verifica si la función f es continua para las topologías TD y TI en el dominio y la imagen,\n",
        "    respectivamente.\n",
        "    \"\"\"\n",
        "    # Verificar la continuidad para cada conjunto abierto de TI\n",
        "    for O in TI:\n",
        "        # Calcular la preimagen de O bajo f\n",
        "        preimage = {x for x in TD if any(felem in O for felem in (f(y) for y in x))}\n",
        "        # Verificar que preimage sea un conjunto abierto en TD\n",
        "        for U in TD:\n",
        "            if U.issubset(preimage):\n",
        "                break\n",
        "            else:\n",
        "                return False\n",
        "    return True"
      ],
      "metadata": {
        "id": "hVstMVPCfr_Q"
      },
      "execution_count": null,
      "outputs": []
    },
    {
      "cell_type": "code",
      "source": [
        "TD = [frozenset(), frozenset({0}), frozenset({-3, -1, 1, 3}), frozenset({-4, -2, 2, 4}), \n",
        "      frozenset({-3, -1, 0, 1, 3}), frozenset({-4, -2, 0, 2, 4}), \n",
        "      frozenset({-4, -3, -2, -1, 1, 2, 3, 4}), frozenset({-4, -3, -2, -1, 0, 1, 2, 3, 4})]\n",
        "\n",
        "TI = [frozenset(), frozenset({0}), frozenset({1, 9}), frozenset({4, 16}), frozenset({0, 1, 9}), frozenset({0, 4, 16}), frozenset({1, 4, 9, 16}), frozenset({0, 1, 4, 9, 16})]\n",
        "\n",
        "\n",
        "\n",
        "def f(x):\n",
        "    return x**2\n",
        "\n",
        "print(es_continuo(f, TD, TI))"
      ],
      "metadata": {
        "id": "iW-akfJzcgZ0",
        "colab": {
          "base_uri": "https://localhost:8080/"
        },
        "outputId": "f44c417e-1207-43d5-d5e3-ebdc6efdd183"
      },
      "execution_count": null,
      "outputs": [
        {
          "output_type": "stream",
          "name": "stdout",
          "text": [
            "True\n"
          ]
        }
      ]
    },
    {
      "cell_type": "markdown",
      "source": [
        "## Pregunta 3"
      ],
      "metadata": {
        "id": "RqsEkGL8lv2N"
      }
    },
    {
      "cell_type": "markdown",
      "source": [
        "a)"
      ],
      "metadata": {
        "id": "7j4Y8v1vn5gx"
      }
    },
    {
      "cell_type": "code",
      "source": [
        "TD3 = [frozenset(),frozenset({-4, -3, -2, -1, 0, 1, 2, 3, 4})]\n",
        "TI3 = [frozenset(),frozenset({0, 1, 4, 9, 16})]\n",
        "\n",
        "print(es_continuo(f, TD3, TI3))"
      ],
      "metadata": {
        "colab": {
          "base_uri": "https://localhost:8080/"
        },
        "id": "z8lTNdrGnAA1",
        "outputId": "27de7e7c-a5ef-4e3e-adbd-71332670f945"
      },
      "execution_count": null,
      "outputs": [
        {
          "output_type": "stream",
          "name": "stdout",
          "text": [
            "True\n"
          ]
        }
      ]
    },
    {
      "cell_type": "markdown",
      "source": [
        "b)"
      ],
      "metadata": {
        "id": "pFQ574Wvn7br"
      }
    },
    {
      "cell_type": "code",
      "source": [
        "TI_b = [frozenset(),frozenset({0}),frozenset({1}),frozenset({4}), frozenset({9}),frozenset({16}),\n",
        " frozenset({0, 1}),frozenset({0, 4}),frozenset({0, 9}),frozenset({0, 16}),frozenset({1, 4}),frozenset({1, 9}),frozenset({1, 16}),frozenset({4, 9}),frozenset({4, 16}),frozenset({9, 16}),\n",
        " frozenset({0, 1, 4}),frozenset({0, 1, 9}),frozenset({0, 1, 16}),frozenset({0, 4, 9}),frozenset({0, 4, 16}),frozenset({0, 9, 16}),frozenset({1, 4, 9}),frozenset({1, 4, 16}),frozenset({1, 9, 16}),frozenset({4, 9, 16}),\n",
        " frozenset({0, 1, 4, 9}),frozenset({0, 1, 4, 16}),frozenset({0, 1, 9, 16}),frozenset({0, 4, 9, 16}),frozenset({1, 4, 9, 16}),\n",
        " frozenset({0, 1, 4, 9, 16})]\n",
        "\n",
        "def f(x):\n",
        "    return 0\n",
        "es_continuo(f, TI_b, TI_b)\n"
      ],
      "metadata": {
        "id": "FAGri_XQn8k4",
        "outputId": "604bf4ea-1b47-440e-9dd1-99866f6d1ba8",
        "colab": {
          "base_uri": "https://localhost:8080/"
        }
      },
      "execution_count": null,
      "outputs": [
        {
          "output_type": "execute_result",
          "data": {
            "text/plain": [
              "True"
            ]
          },
          "metadata": {},
          "execution_count": 44
        }
      ]
    },
    {
      "cell_type": "markdown",
      "source": [
        "c)"
      ],
      "metadata": {
        "id": "xBZGTkIBfZhK"
      }
    },
    {
      "cell_type": "code",
      "source": [
        "from more_itertools import powerset\n",
        "\n",
        "D = set(range(-4, 5))\n",
        "\n",
        "TD_c = set(map(frozenset, powerset(D)))\n",
        "\n",
        "def f(x):\n",
        "    return -x\n",
        "\n",
        "es_continuo(f, TD_c, TD_c)"
      ],
      "metadata": {
        "id": "24TVsr3BfbQJ",
        "colab": {
          "base_uri": "https://localhost:8080/"
        },
        "outputId": "4cd3b235-32e3-4960-e20d-fdccff6b79d6"
      },
      "execution_count": null,
      "outputs": [
        {
          "output_type": "execute_result",
          "data": {
            "text/plain": [
              "False"
            ]
          },
          "metadata": {},
          "execution_count": 51
        }
      ]
    },
    {
      "cell_type": "markdown",
      "source": [
        "d)"
      ],
      "metadata": {
        "id": "Fg2CYam0gT6K"
      }
    },
    {
      "cell_type": "code",
      "source": [
        "TI_d = [frozenset(),frozenset({0}),frozenset({-4,-3,-2,-1}),frozenset({1,2,3,4}), frozenset({0,1,2,3,4}),frozenset({0,-1,-2,-3,-4}),frozenset({-4,-3,-2,-1,1,2,3,4}), frozenset({-4, -3, -2, -1, 0, 1, 2, 3, 4}) ]\n",
        "\n",
        "def f(x):\n",
        "    return -x\n",
        "es_continuo(f, TI_d, TI_d)"
      ],
      "metadata": {
        "colab": {
          "base_uri": "https://localhost:8080/"
        },
        "id": "ScxGlKUzgVfv",
        "outputId": "5db57769-86ba-4a49-caef-5360c8d643e1"
      },
      "execution_count": null,
      "outputs": [
        {
          "output_type": "execute_result",
          "data": {
            "text/plain": [
              "True"
            ]
          },
          "metadata": {},
          "execution_count": 45
        }
      ]
    }
  ]
}